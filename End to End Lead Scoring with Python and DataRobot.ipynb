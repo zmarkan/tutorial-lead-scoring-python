{
 "cells": [
  {
   "cell_type": "markdown",
   "metadata": {},
   "source": [
    "## End to End Lead Scoring with Python and DataRobot\n",
    "### Scope\n",
    "The scope of this notebook is to provide an end to end demonstration of how Python can be used jointly with DataRobot to produce a lead scoring model.\n",
    "\n",
    "### Background\n",
    "Lead scoring is the process of building a list of prospects ranked against their perceived value to a given purpose. In Ecommerce for instance, one might be interested in creating a list of customers who are highly likely to purchase a product after receiving a Direct Message. For call centers, one might want to direct customers who could be persuaded not to unsubscribe to more experienced customer representatives. In the financial market, one might create a list of potentially good borrowers. In the online game business, lead scoring may help a business focus their efforts on attracting users who are likely to subscribe to a paid service.\n",
    "\n",
    "### Requirements\n",
    "\n",
    "- Python version 3.7.3\n",
    "-  DataRobot API version 2.19.0. \n",
    "Small adjustments might be needed depending on the Python version and DataRobot API version you are using.\n",
    "\n",
    "Full documentation of the Python package can be found here: https://datarobot-public-api-client.readthedocs-hosted.com/en/"
   ]
  },
  {
   "cell_type": "markdown",
   "metadata": {},
   "source": [
    "#### Import Libraries\n",
    "To start with, lets import the libraries that will be used in this tutorial"
   ]
  },
  {
   "cell_type": "code",
   "execution_count": 1,
   "metadata": {},
   "outputs": [],
   "source": [
    "import datarobot as dr\n",
    "import pandas as pd\n",
    "import time"
   ]
  },
  {
   "cell_type": "markdown",
   "metadata": {},
   "source": [
    "#### Import Dataset\n",
    "The dataset we will be using comes from a company that sells online courses to industry professionals.\n",
    "\n",
    "Each row represents a person who landed on the website, and each column represents some information about this prospect. For example, “lead origin,” “lead source,” and “total time spent on the website.”\n",
    "\n",
    "This dataset can be found and downloaded through Kaggle: https://www.kaggle.com/ashydv/leads-dataset.\n",
    "\n",
    "The target column is “Converted,” which indicates whether or not this prospect bought a course.\n"
   ]
  },
  {
   "cell_type": "code",
   "execution_count": 3,
   "metadata": {
    "scrolled": true
   },
   "outputs": [
    {
     "data": {
      "text/html": [
       "<div>\n",
       "<style scoped>\n",
       "    .dataframe tbody tr th:only-of-type {\n",
       "        vertical-align: middle;\n",
       "    }\n",
       "\n",
       "    .dataframe tbody tr th {\n",
       "        vertical-align: top;\n",
       "    }\n",
       "\n",
       "    .dataframe thead th {\n",
       "        text-align: right;\n",
       "    }\n",
       "</style>\n",
       "<table border=\"1\" class=\"dataframe\">\n",
       "  <thead>\n",
       "    <tr style=\"text-align: right;\">\n",
       "      <th></th>\n",
       "      <th>Prospect ID</th>\n",
       "      <th>Lead Number</th>\n",
       "      <th>Lead Origin</th>\n",
       "      <th>Lead Source</th>\n",
       "      <th>Do Not Email</th>\n",
       "      <th>Do Not Call</th>\n",
       "      <th>Converted</th>\n",
       "      <th>TotalVisits</th>\n",
       "      <th>Total Time Spent on Website</th>\n",
       "      <th>Page Views Per Visit</th>\n",
       "      <th>...</th>\n",
       "      <th>Get updates on DM Content</th>\n",
       "      <th>Lead Profile</th>\n",
       "      <th>City</th>\n",
       "      <th>Asymmetrique Activity Index</th>\n",
       "      <th>Asymmetrique Profile Index</th>\n",
       "      <th>Asymmetrique Activity Score</th>\n",
       "      <th>Asymmetrique Profile Score</th>\n",
       "      <th>I agree to pay the amount through cheque</th>\n",
       "      <th>A free copy of Mastering The Interview</th>\n",
       "      <th>Last Notable Activity</th>\n",
       "    </tr>\n",
       "  </thead>\n",
       "  <tbody>\n",
       "    <tr>\n",
       "      <th>0</th>\n",
       "      <td>7927b2df-8bba-4d29-b9a2-b6e0beafe620</td>\n",
       "      <td>660737</td>\n",
       "      <td>API</td>\n",
       "      <td>Olark Chat</td>\n",
       "      <td>No</td>\n",
       "      <td>No</td>\n",
       "      <td>0</td>\n",
       "      <td>0.0</td>\n",
       "      <td>0</td>\n",
       "      <td>0.0</td>\n",
       "      <td>...</td>\n",
       "      <td>No</td>\n",
       "      <td>Select</td>\n",
       "      <td>Select</td>\n",
       "      <td>02.Medium</td>\n",
       "      <td>02.Medium</td>\n",
       "      <td>15.0</td>\n",
       "      <td>15.0</td>\n",
       "      <td>No</td>\n",
       "      <td>No</td>\n",
       "      <td>Modified</td>\n",
       "    </tr>\n",
       "    <tr>\n",
       "      <th>1</th>\n",
       "      <td>2a272436-5132-4136-86fa-dcc88c88f482</td>\n",
       "      <td>660728</td>\n",
       "      <td>API</td>\n",
       "      <td>Organic Search</td>\n",
       "      <td>No</td>\n",
       "      <td>No</td>\n",
       "      <td>0</td>\n",
       "      <td>5.0</td>\n",
       "      <td>674</td>\n",
       "      <td>2.5</td>\n",
       "      <td>...</td>\n",
       "      <td>No</td>\n",
       "      <td>Select</td>\n",
       "      <td>Select</td>\n",
       "      <td>02.Medium</td>\n",
       "      <td>02.Medium</td>\n",
       "      <td>15.0</td>\n",
       "      <td>15.0</td>\n",
       "      <td>No</td>\n",
       "      <td>No</td>\n",
       "      <td>Email Opened</td>\n",
       "    </tr>\n",
       "    <tr>\n",
       "      <th>2</th>\n",
       "      <td>8cc8c611-a219-4f35-ad23-fdfd2656bd8a</td>\n",
       "      <td>660727</td>\n",
       "      <td>Landing Page Submission</td>\n",
       "      <td>Direct Traffic</td>\n",
       "      <td>No</td>\n",
       "      <td>No</td>\n",
       "      <td>1</td>\n",
       "      <td>2.0</td>\n",
       "      <td>1532</td>\n",
       "      <td>2.0</td>\n",
       "      <td>...</td>\n",
       "      <td>No</td>\n",
       "      <td>Potential Lead</td>\n",
       "      <td>Mumbai</td>\n",
       "      <td>02.Medium</td>\n",
       "      <td>01.High</td>\n",
       "      <td>14.0</td>\n",
       "      <td>20.0</td>\n",
       "      <td>No</td>\n",
       "      <td>Yes</td>\n",
       "      <td>Email Opened</td>\n",
       "    </tr>\n",
       "    <tr>\n",
       "      <th>3</th>\n",
       "      <td>0cc2df48-7cf4-4e39-9de9-19797f9b38cc</td>\n",
       "      <td>660719</td>\n",
       "      <td>Landing Page Submission</td>\n",
       "      <td>Direct Traffic</td>\n",
       "      <td>No</td>\n",
       "      <td>No</td>\n",
       "      <td>0</td>\n",
       "      <td>1.0</td>\n",
       "      <td>305</td>\n",
       "      <td>1.0</td>\n",
       "      <td>...</td>\n",
       "      <td>No</td>\n",
       "      <td>Select</td>\n",
       "      <td>Mumbai</td>\n",
       "      <td>02.Medium</td>\n",
       "      <td>01.High</td>\n",
       "      <td>13.0</td>\n",
       "      <td>17.0</td>\n",
       "      <td>No</td>\n",
       "      <td>No</td>\n",
       "      <td>Modified</td>\n",
       "    </tr>\n",
       "    <tr>\n",
       "      <th>4</th>\n",
       "      <td>3256f628-e534-4826-9d63-4a8b88782852</td>\n",
       "      <td>660681</td>\n",
       "      <td>Landing Page Submission</td>\n",
       "      <td>Google</td>\n",
       "      <td>No</td>\n",
       "      <td>No</td>\n",
       "      <td>1</td>\n",
       "      <td>2.0</td>\n",
       "      <td>1428</td>\n",
       "      <td>1.0</td>\n",
       "      <td>...</td>\n",
       "      <td>No</td>\n",
       "      <td>Select</td>\n",
       "      <td>Mumbai</td>\n",
       "      <td>02.Medium</td>\n",
       "      <td>01.High</td>\n",
       "      <td>15.0</td>\n",
       "      <td>18.0</td>\n",
       "      <td>No</td>\n",
       "      <td>No</td>\n",
       "      <td>Modified</td>\n",
       "    </tr>\n",
       "  </tbody>\n",
       "</table>\n",
       "<p>5 rows × 37 columns</p>\n",
       "</div>"
      ],
      "text/plain": [
       "                            Prospect ID  Lead Number              Lead Origin  \\\n",
       "0  7927b2df-8bba-4d29-b9a2-b6e0beafe620       660737                      API   \n",
       "1  2a272436-5132-4136-86fa-dcc88c88f482       660728                      API   \n",
       "2  8cc8c611-a219-4f35-ad23-fdfd2656bd8a       660727  Landing Page Submission   \n",
       "3  0cc2df48-7cf4-4e39-9de9-19797f9b38cc       660719  Landing Page Submission   \n",
       "4  3256f628-e534-4826-9d63-4a8b88782852       660681  Landing Page Submission   \n",
       "\n",
       "      Lead Source Do Not Email Do Not Call  Converted  TotalVisits  \\\n",
       "0      Olark Chat           No          No          0          0.0   \n",
       "1  Organic Search           No          No          0          5.0   \n",
       "2  Direct Traffic           No          No          1          2.0   \n",
       "3  Direct Traffic           No          No          0          1.0   \n",
       "4          Google           No          No          1          2.0   \n",
       "\n",
       "   Total Time Spent on Website  Page Views Per Visit          ...           \\\n",
       "0                            0                   0.0          ...            \n",
       "1                          674                   2.5          ...            \n",
       "2                         1532                   2.0          ...            \n",
       "3                          305                   1.0          ...            \n",
       "4                         1428                   1.0          ...            \n",
       "\n",
       "  Get updates on DM Content    Lead Profile    City  \\\n",
       "0                        No          Select  Select   \n",
       "1                        No          Select  Select   \n",
       "2                        No  Potential Lead  Mumbai   \n",
       "3                        No          Select  Mumbai   \n",
       "4                        No          Select  Mumbai   \n",
       "\n",
       "  Asymmetrique Activity Index Asymmetrique Profile Index  \\\n",
       "0                   02.Medium                  02.Medium   \n",
       "1                   02.Medium                  02.Medium   \n",
       "2                   02.Medium                    01.High   \n",
       "3                   02.Medium                    01.High   \n",
       "4                   02.Medium                    01.High   \n",
       "\n",
       "  Asymmetrique Activity Score Asymmetrique Profile Score  \\\n",
       "0                        15.0                       15.0   \n",
       "1                        15.0                       15.0   \n",
       "2                        14.0                       20.0   \n",
       "3                        13.0                       17.0   \n",
       "4                        15.0                       18.0   \n",
       "\n",
       "  I agree to pay the amount through cheque  \\\n",
       "0                                       No   \n",
       "1                                       No   \n",
       "2                                       No   \n",
       "3                                       No   \n",
       "4                                       No   \n",
       "\n",
       "  A free copy of Mastering The Interview Last Notable Activity  \n",
       "0                                     No              Modified  \n",
       "1                                     No          Email Opened  \n",
       "2                                    Yes          Email Opened  \n",
       "3                                     No              Modified  \n",
       "4                                     No              Modified  \n",
       "\n",
       "[5 rows x 37 columns]"
      ]
     },
     "execution_count": 3,
     "metadata": {},
     "output_type": "execute_result"
    }
   ],
   "source": [
    "df = pd.read_csv('leads.csv')\n",
    "df.head()"
   ]
  },
  {
   "cell_type": "markdown",
   "metadata": {},
   "source": [
    "#### Connect to DataRobot\n",
    "Connect to DataRobot using your api token and your endpoint. Change input below accordingly."
   ]
  },
  {
   "cell_type": "code",
   "execution_count": 5,
   "metadata": {},
   "outputs": [
    {
     "data": {
      "text/plain": [
       "<datarobot.rest.RESTClientObject at 0x1199472b0>"
      ]
     },
     "execution_count": 5,
     "metadata": {},
     "output_type": "execute_result"
    }
   ],
   "source": [
    "token = 'YOUR_TOKEN'\n",
    "endpoint = 'YOUR_DR_URL/api/v2'\n",
    "\n",
    "dr.Client(token=token, \n",
    "          endpoint= endpoint)"
   ]
  },
  {
   "cell_type": "markdown",
   "metadata": {},
   "source": [
    "#### Create a Project\n",
    "Now that we are connected to DataRobot, we can create a project using the method <code>dr.Project.create</code>:"
   ]
  },
  {
   "cell_type": "code",
   "execution_count": 7,
   "metadata": {},
   "outputs": [],
   "source": [
    "#First create the project\n",
    "project = dr.Project.create(project_name='LeadScoringUseCase',\n",
    "                        sourcedata= df)"
   ]
  },
  {
   "cell_type": "markdown",
   "metadata": {},
   "source": [
    "#### Create a custom feature list\n",
    "Lets have a look at what the features are in the Informative Featurelist. This is the default featurelist that DataRobot will use to initiate the project's Autopilot."
   ]
  },
  {
   "cell_type": "code",
   "execution_count": 18,
   "metadata": {
    "scrolled": true
   },
   "outputs": [
    {
     "name": "stdout",
     "output_type": "stream",
     "text": [
      "['Lead Origin', 'Lead Source', 'Do Not Email', 'Converted', 'TotalVisits', 'Total Time Spent on Website', 'Page Views Per Visit', 'Last Activity', 'Country', 'Specialization', 'How did you hear about X Education', 'What is your current occupation', 'What matters most to you in choosing a course', 'Search', 'Tags', 'Lead Quality', 'Lead Profile', 'City', 'Asymmetrique Activity Index', 'Asymmetrique Profile Index', 'Asymmetrique Activity Score', 'Asymmetrique Profile Score', 'A free copy of Mastering The Interview', 'Last Notable Activity']\n"
     ]
    }
   ],
   "source": [
    "for featurelist in project.get_featurelists():\n",
    "    if featurelist.name == 'Informative Features':\n",
    "        print(featurelist.features)"
   ]
  },
  {
   "cell_type": "markdown",
   "metadata": {},
   "source": [
    "I see that the <code>Tags</code> column will be used.\n",
    "\n",
    "DataRobot, during the second phase of exploratory data analysis (which starts with autopilot), will automatically detect [target leakage](https://community.datarobot.com/t5/ai-ml-general-blog/what-is-target-leakage-and-how-do-i-avoid-it/ba-p/1973) based on the feature importance score (not to be confused with [feature impact](https://app.datarobot.com/docs/modeling/investigate/understand/feature-impact.html)) of each feature.\n",
    "\n",
    "We will remove the <code>Tags</code> column as we suspect it might introduce target leakage even though its feature importance score falls right below the default threshold that DataRobot has."
   ]
  },
  {
   "cell_type": "code",
   "execution_count": 20,
   "metadata": {},
   "outputs": [],
   "source": [
    "ml_features = ['Lead Origin', 'Lead Source', 'Do Not Email', 'Converted', \n",
    "               'TotalVisits', 'Total Time Spent on Website', 'Page Views Per Visit',\n",
    "               'Last Activity', 'Country', 'Specialization', 'How did you hear about X Education', \n",
    "               'What is your current occupation', 'What matters most to you in choosing a course', \n",
    "               'Search', 'Lead Quality', 'Lead Profile', 'City', 'Asymmetrique Activity Index', \n",
    "               'Asymmetrique Profile Index', 'Asymmetrique Activity Score', 'Asymmetrique Profile Score', \n",
    "               'A free copy of Mastering The Interview', 'Last Notable Activity']\n",
    "\n",
    "featurelist = project.create_featurelist('InformativeFeaturesNoTagsColumn', \n",
    "                                         features=ml_features)"
   ]
  },
  {
   "cell_type": "markdown",
   "metadata": {},
   "source": [
    "#### Starting Project\n",
    "Now that my custom feature list is created, I can use the <code>set_target</code> method to indicate the project's target and tell DataRobot to use the custom feature list that I created in the previous step.\n",
    "\n",
    "The <code>set_target</code> method will also initiate DataRobot's autopilot."
   ]
  },
  {
   "cell_type": "code",
   "execution_count": 23,
   "metadata": {
    "collapsed": true
   },
   "outputs": [
    {
     "name": "stdout",
     "output_type": "stream",
     "text": [
      "In progress: 20, queued: 14 (waited: 0s)\n",
      "In progress: 20, queued: 14 (waited: 1s)\n",
      "In progress: 20, queued: 14 (waited: 2s)\n",
      "In progress: 20, queued: 14 (waited: 4s)\n",
      "In progress: 20, queued: 14 (waited: 5s)\n",
      "In progress: 20, queued: 14 (waited: 8s)\n",
      "In progress: 20, queued: 14 (waited: 12s)\n",
      "In progress: 20, queued: 14 (waited: 20s)\n",
      "In progress: 19, queued: 13 (waited: 34s)\n",
      "In progress: 20, queued: 10 (waited: 55s)\n",
      "In progress: 20, queued: 1 (waited: 76s)\n",
      "In progress: 16, queued: 0 (waited: 97s)\n",
      "In progress: 16, queued: 0 (waited: 117s)\n",
      "In progress: 11, queued: 0 (waited: 138s)\n",
      "In progress: 6, queued: 0 (waited: 159s)\n",
      "In progress: 3, queued: 0 (waited: 180s)\n",
      "In progress: 3, queued: 0 (waited: 201s)\n",
      "In progress: 0, queued: 0 (waited: 221s)\n",
      "In progress: 16, queued: 0 (waited: 242s)\n",
      "In progress: 16, queued: 0 (waited: 263s)\n",
      "In progress: 14, queued: 0 (waited: 283s)\n",
      "In progress: 8, queued: 0 (waited: 304s)\n",
      "In progress: 2, queued: 0 (waited: 325s)\n",
      "In progress: 2, queued: 0 (waited: 345s)\n",
      "In progress: 8, queued: 0 (waited: 366s)\n",
      "In progress: 8, queued: 0 (waited: 387s)\n",
      "In progress: 8, queued: 0 (waited: 408s)\n",
      "In progress: 7, queued: 0 (waited: 428s)\n",
      "In progress: 3, queued: 0 (waited: 449s)\n",
      "In progress: 1, queued: 0 (waited: 470s)\n",
      "In progress: 1, queued: 0 (waited: 490s)\n",
      "In progress: 1, queued: 0 (waited: 511s)\n",
      "In progress: 1, queued: 0 (waited: 532s)\n",
      "In progress: 1, queued: 0 (waited: 552s)\n",
      "In progress: 0, queued: 0 (waited: 573s)\n",
      "In progress: 20, queued: 12 (waited: 593s)\n",
      "In progress: 20, queued: 12 (waited: 614s)\n",
      "In progress: 18, queued: 0 (waited: 635s)\n",
      "In progress: 10, queued: 0 (waited: 656s)\n",
      "In progress: 4, queued: 0 (waited: 676s)\n",
      "In progress: 4, queued: 0 (waited: 697s)\n",
      "In progress: 4, queued: 0 (waited: 718s)\n",
      "In progress: 4, queued: 0 (waited: 738s)\n",
      "In progress: 2, queued: 0 (waited: 759s)\n",
      "In progress: 1, queued: 0 (waited: 779s)\n",
      "In progress: 1, queued: 0 (waited: 800s)\n",
      "In progress: 0, queued: 0 (waited: 820s)\n",
      "In progress: 0, queued: 0 (waited: 841s)\n",
      "In progress: 2, queued: 3 (waited: 862s)\n",
      "In progress: 5, queued: 0 (waited: 882s)\n",
      "In progress: 4, queued: 0 (waited: 903s)\n",
      "In progress: 1, queued: 0 (waited: 923s)\n",
      "In progress: 0, queued: 0 (waited: 944s)\n",
      "In progress: 1, queued: 0 (waited: 964s)\n",
      "In progress: 1, queued: 0 (waited: 985s)\n",
      "In progress: 1, queued: 0 (waited: 1006s)\n",
      "In progress: 0, queued: 0 (waited: 1026s)\n",
      "In progress: 1, queued: 0 (waited: 1047s)\n",
      "In progress: 1, queued: 0 (waited: 1067s)\n",
      "In progress: 1, queued: 0 (waited: 1088s)\n",
      "In progress: 5, queued: 0 (waited: 1109s)\n",
      "In progress: 5, queued: 0 (waited: 1129s)\n",
      "In progress: 3, queued: 0 (waited: 1150s)\n",
      "In progress: 0, queued: 0 (waited: 1171s)\n",
      "In progress: 0, queued: 0 (waited: 1191s)\n",
      "In progress: 0, queued: 0 (waited: 1212s)\n",
      "In progress: 0, queued: 0 (waited: 1232s)\n"
     ]
    }
   ],
   "source": [
    "project.set_target(\n",
    "    target='Converted',\n",
    "    featurelist_id = featurelist.id,\n",
    "    worker_count = '-1',\n",
    ")\n",
    "project.wait_for_autopilot() #Wait for autopilot to complete"
   ]
  },
  {
   "cell_type": "markdown",
   "metadata": {},
   "source": [
    "#### Inspecting top models\n",
    "\n",
    "The autopilot is done...What to do next? Obviously, we would want to see the top 5 models and their respective LogLoss score (or any metric but this is the default currently chosen)."
   ]
  },
  {
   "cell_type": "code",
   "execution_count": 50,
   "metadata": {},
   "outputs": [],
   "source": [
    "models = project.get_models(order_by='metric')"
   ]
  },
  {
   "cell_type": "code",
   "execution_count": 51,
   "metadata": {
    "scrolled": false
   },
   "outputs": [
    {
     "name": "stdout",
     "output_type": "stream",
     "text": [
      "Model('eXtreme Gradient Boosted Trees Classifier with Early Stopping')\n",
      "0.29686\n",
      "Model('eXtreme Gradient Boosted Trees Classifier with Early Stopping')\n",
      "0.29656\n",
      "Model('eXtreme Gradient Boosted Trees Classifier with Early Stopping')\n",
      "0.2963\n",
      "Model('AVG Blender')\n",
      "0.29582\n",
      "Model('GLM Blender')\n",
      "0.2956\n"
     ]
    }
   ],
   "source": [
    "for model in models[-5:]:\n",
    "    print(model)\n",
    "    print(model.metrics['LogLoss']['validation'])"
   ]
  },
  {
   "cell_type": "markdown",
   "metadata": {},
   "source": [
    "The best model based on the validation logloss score is a GLM Blender model. Next, lets see what features have the most impact on this model."
   ]
  },
  {
   "cell_type": "markdown",
   "metadata": {},
   "source": [
    "#### Plotting Feature Impact for best model"
   ]
  },
  {
   "cell_type": "code",
   "execution_count": 8,
   "metadata": {},
   "outputs": [],
   "source": [
    "import datarobot as dr\n",
    "token = 'YOUR_TOKEN'\n",
    "endpoint = 'YOUR_ENDPOINT'\n",
    "\n",
    "dr.Client(token=token, \n",
    "          endpoint= endpoint)\n",
    "\n",
    "models = project.get_models(order_by='metric')"
   ]
  },
  {
   "cell_type": "code",
   "execution_count": 9,
   "metadata": {},
   "outputs": [],
   "source": [
    "#Pick best model\n",
    "best_model = models[-1]"
   ]
  },
  {
   "cell_type": "code",
   "execution_count": 11,
   "metadata": {},
   "outputs": [
    {
     "data": {
      "text/plain": [
       "<matplotlib.axes._subplots.AxesSubplot at 0x1a2005aef0>"
      ]
     },
     "execution_count": 11,
     "metadata": {},
     "output_type": "execute_result"
    },
    {
     "data": {
      "image/png": "[encoded data removed]",
      "text/plain": [
       "<Figure size 1080x360 with 1 Axes>"
      ]
     },
     "metadata": {
      "needs_background": "light"
     },
     "output_type": "display_data"
    }
   ],
   "source": [
    "import seaborn as sns\n",
    "import matplotlib.pyplot as plt\n",
    "\n",
    "#Get Feature Impact\n",
    "feature_impact = best_model.get_or_request_feature_impact()\n",
    "\n",
    "#Save feature impact in pandas dataframe\n",
    "fi_df = pd.DataFrame(feature_impact)\n",
    "\n",
    "fig, ax = plt.subplots(figsize = (15,5))\n",
    "\n",
    "#Plot feature impact\n",
    "sns.barplot(x='featureName', y='impactNormalized', data=fi_df[0:5], color='g')"
   ]
  },
  {
   "cell_type": "markdown",
   "metadata": {},
   "source": [
    "Lead quality and total time spent on website are the two top predictors of why someone converted or not. It makes sense for these features to be at the top. We could try to make some decisions based on this information, but it is important to know *how* these features are impacting the likelihood to convert.\n",
    "\n",
    "To start down on that path, lets see how the different values of \"Lead Quality\" and \"total time spent on website\" affect the target outcome:"
   ]
  },
  {
   "cell_type": "code",
   "execution_count": 152,
   "metadata": {},
   "outputs": [],
   "source": [
    "feature_effects = best_model.request_feature_effect()\n",
    "feature_effects.wait_for_completion() #Wait till feature effects computes\n",
    "\n",
    "def generate_dataframe_from_feature_effects(feature_effects, column):\n",
    "    temp_pd = list(feature_effects.get_result())\n",
    "    for item in temp_pd:\n",
    "        if item['feature_name'] == column:\n",
    "            partial_dependence_data = item['partial_dependence']['data']\n",
    "            partial_dependence_data_df = pd.DataFrame(partial_dependence_data) #Save results into a pandas dataframe\n",
    "            partial_dependence_data_df.columns = ['target_probability','value']\n",
    "            try:\n",
    "                partial_dependence_data_df['value'] = round(partial_dependence_data_df['value'].astype('float'),1)\n",
    "            except:\n",
    "                pass\n",
    "    return partial_dependence_data_df"
   ]
  },
  {
   "cell_type": "markdown",
   "metadata": {},
   "source": [
    "Plot for <code>Lead Quality</code>"
   ]
  },
  {
   "cell_type": "code",
   "execution_count": 155,
   "metadata": {},
   "outputs": [
    {
     "data": {
      "text/plain": [
       "<seaborn.axisgrid.FacetGrid at 0x1a22b2b400>"
      ]
     },
     "execution_count": 155,
     "metadata": {},
     "output_type": "execute_result"
    },
    {
     "data": {
      "image/png": "[encoded data removed]",
      "text/plain": [
       "<Figure size 720x720 with 1 Axes>"
      ]
     },
     "metadata": {},
     "output_type": "display_data"
    }
   ],
   "source": [
    "sns.catplot(x=\"value\", y=\"target_probability\", height=10, data=generate_dataframe_from_feature_effects(feature_effects,'Lead Quality'))"
   ]
  },
  {
   "cell_type": "markdown",
   "metadata": {},
   "source": [
    "Plot for <code>Total Time Spent on Website</code>"
   ]
  },
  {
   "cell_type": "code",
   "execution_count": 154,
   "metadata": {
    "scrolled": true
   },
   "outputs": [
    {
     "data": {
      "image/png": "[encoded data removed]",
      "text/plain": [
       "<Figure size 432x288 with 1 Axes>"
      ]
     },
     "metadata": {},
     "output_type": "display_data"
    }
   ],
   "source": [
    "g = sns.scatterplot(x=\"value\", y=\"target_probability\",data=generate_dataframe_from_feature_effects(feature_effects,'Total Time Spent on Website'))                                                                    \n"
   ]
  },
  {
   "cell_type": "markdown",
   "metadata": {},
   "source": [
    "For starters, it seems like that leads that are highest in relevance have the highest probability of converting. Maybe that means that the company should invest more money to getting more leads from relevant websites. \n",
    "\n",
    "Furthermore, the more time someone spents on a website, the higher the probability that that person will convert. This does have some diminishing effects though. After the 800 seconds mark, it seems like the probability to convert does not increase further. This info, could be used to design the website in a way that keeps prospects occupied for at least 800 seconds. The more time they invest in the website, the higher the probability they will buy in the end."
   ]
  },
  {
   "cell_type": "markdown",
   "metadata": {},
   "source": [
    "# Plotting the ROC Curve\n",
    "I will use the <code>get_roc_curve</code> method to download the accuracy metrics for each different prediction threshold and plot the ROC curve using Matplotlib."
   ]
  },
  {
   "cell_type": "code",
   "execution_count": 63,
   "metadata": {
    "scrolled": false
   },
   "outputs": [
    {
     "data": {
      "text/plain": [
       "(0, 1)"
      ]
     },
     "execution_count": 63,
     "metadata": {},
     "output_type": "execute_result"
    },
    {
     "data": {
      "image/png": "[encoded data removed]",
      "text/plain": [
       "<Figure size 576x576 with 1 Axes>"
      ]
     },
     "metadata": {
      "needs_background": "light"
     },
     "output_type": "display_data"
    }
   ],
   "source": [
    "roc = best_model.get_roc_curve('validation')\n",
    "\n",
    "#Save the result into a pandas dataframe\n",
    "roc_df = pd.DataFrame(roc.roc_points)\n",
    "\n",
    "dr_roc_green = '#03c75f'\n",
    "white = '#ffffff'\n",
    "dr_purple = '#65147D'\n",
    "dr_dense_green = '#018f4f'\n",
    "dr_dark_blue = '#08233F'\n",
    "\n",
    "fig = plt.figure(figsize=(8, 8))\n",
    "axes = fig.add_subplot(1, 1, 1, facecolor=dr_dark_blue)\n",
    "\n",
    "plt.scatter(roc_df.false_positive_rate, roc_df.true_positive_rate, color=dr_roc_green)\n",
    "plt.plot(roc_df.false_positive_rate, roc_df.true_positive_rate, color=dr_roc_green)\n",
    "plt.plot([0, 1], [0, 1], color=white, alpha=0.25)\n",
    "plt.title('ROC curve')\n",
    "plt.xlabel('False Positive Rate (Fallout)')\n",
    "plt.xlim([0, 1])\n",
    "plt.ylabel('True Positive Rate (Sensitivity)')\n",
    "plt.ylim([0, 1])"
   ]
  },
  {
   "cell_type": "markdown",
   "metadata": {},
   "source": [
    "#### Finding best prediction threshold to maximize f1 score\n",
    "We can use the <code>get_roc_curve</code> command to get the ROC curve data points."
   ]
  },
  {
   "cell_type": "code",
   "execution_count": null,
   "metadata": {},
   "outputs": [],
   "source": [
    "roc = best_model.get_roc_curve('validation')\n",
    "\n",
    "#Save the result into a pandas dataframe\n",
    "roc_df = pd.DataFrame(roc.roc_points)"
   ]
  },
  {
   "cell_type": "markdown",
   "metadata": {},
   "source": [
    "I can also see the raw table of the results and find out the prediction threshold that maximises the f1 score (or any KPI I want really)"
   ]
  },
  {
   "cell_type": "code",
   "execution_count": 84,
   "metadata": {
    "scrolled": true
   },
   "outputs": [
    {
     "data": {
      "text/html": [
       "<div>\n",
       "<style scoped>\n",
       "    .dataframe tbody tr th:only-of-type {\n",
       "        vertical-align: middle;\n",
       "    }\n",
       "\n",
       "    .dataframe tbody tr th {\n",
       "        vertical-align: top;\n",
       "    }\n",
       "\n",
       "    .dataframe thead th {\n",
       "        text-align: right;\n",
       "    }\n",
       "</style>\n",
       "<table border=\"1\" class=\"dataframe\">\n",
       "  <thead>\n",
       "    <tr style=\"text-align: right;\">\n",
       "      <th></th>\n",
       "      <th>accuracy</th>\n",
       "      <th>f1_score</th>\n",
       "      <th>false_negative_score</th>\n",
       "      <th>false_positive_rate</th>\n",
       "      <th>false_positive_score</th>\n",
       "      <th>fraction_predicted_as_negative</th>\n",
       "      <th>fraction_predicted_as_positive</th>\n",
       "      <th>lift_negative</th>\n",
       "      <th>lift_positive</th>\n",
       "      <th>matthews_correlation_coefficient</th>\n",
       "      <th>negative_predictive_value</th>\n",
       "      <th>positive_predictive_value</th>\n",
       "      <th>threshold</th>\n",
       "      <th>true_negative_rate</th>\n",
       "      <th>true_negative_score</th>\n",
       "      <th>true_positive_rate</th>\n",
       "      <th>true_positive_score</th>\n",
       "    </tr>\n",
       "  </thead>\n",
       "  <tbody>\n",
       "    <tr>\n",
       "      <th>0</th>\n",
       "      <td>0.614604</td>\n",
       "      <td>0.000000</td>\n",
       "      <td>570</td>\n",
       "      <td>0.0000</td>\n",
       "      <td>0</td>\n",
       "      <td>1.000000</td>\n",
       "      <td>0.000000</td>\n",
       "      <td>1.000000</td>\n",
       "      <td>0.000000</td>\n",
       "      <td>0.000000</td>\n",
       "      <td>0.614604</td>\n",
       "      <td>0.000000</td>\n",
       "      <td>1.000000</td>\n",
       "      <td>1.0000</td>\n",
       "      <td>909</td>\n",
       "      <td>0.000000</td>\n",
       "      <td>0</td>\n",
       "    </tr>\n",
       "    <tr>\n",
       "      <th>1</th>\n",
       "      <td>0.617309</td>\n",
       "      <td>0.013937</td>\n",
       "      <td>566</td>\n",
       "      <td>0.0000</td>\n",
       "      <td>0</td>\n",
       "      <td>0.997295</td>\n",
       "      <td>0.002705</td>\n",
       "      <td>1.002712</td>\n",
       "      <td>2.594737</td>\n",
       "      <td>0.065763</td>\n",
       "      <td>0.616271</td>\n",
       "      <td>1.000000</td>\n",
       "      <td>0.997007</td>\n",
       "      <td>1.0000</td>\n",
       "      <td>909</td>\n",
       "      <td>0.007018</td>\n",
       "      <td>4</td>\n",
       "    </tr>\n",
       "    <tr>\n",
       "      <th>2</th>\n",
       "      <td>0.624746</td>\n",
       "      <td>0.051282</td>\n",
       "      <td>555</td>\n",
       "      <td>0.0000</td>\n",
       "      <td>0</td>\n",
       "      <td>0.989858</td>\n",
       "      <td>0.010142</td>\n",
       "      <td>1.010246</td>\n",
       "      <td>2.594737</td>\n",
       "      <td>0.127826</td>\n",
       "      <td>0.620902</td>\n",
       "      <td>1.000000</td>\n",
       "      <td>0.995319</td>\n",
       "      <td>1.0000</td>\n",
       "      <td>909</td>\n",
       "      <td>0.026316</td>\n",
       "      <td>15</td>\n",
       "    </tr>\n",
       "    <tr>\n",
       "      <th>3</th>\n",
       "      <td>0.632860</td>\n",
       "      <td>0.093489</td>\n",
       "      <td>542</td>\n",
       "      <td>0.0011</td>\n",
       "      <td>1</td>\n",
       "      <td>0.980392</td>\n",
       "      <td>0.019608</td>\n",
       "      <td>1.018878</td>\n",
       "      <td>2.505263</td>\n",
       "      <td>0.168571</td>\n",
       "      <td>0.626207</td>\n",
       "      <td>0.965517</td>\n",
       "      <td>0.993442</td>\n",
       "      <td>0.9989</td>\n",
       "      <td>908</td>\n",
       "      <td>0.049123</td>\n",
       "      <td>28</td>\n",
       "    </tr>\n",
       "    <tr>\n",
       "      <th>4</th>\n",
       "      <td>0.641650</td>\n",
       "      <td>0.133987</td>\n",
       "      <td>529</td>\n",
       "      <td>0.0011</td>\n",
       "      <td>1</td>\n",
       "      <td>0.971602</td>\n",
       "      <td>0.028398</td>\n",
       "      <td>1.028095</td>\n",
       "      <td>2.532957</td>\n",
       "      <td>0.207530</td>\n",
       "      <td>0.631872</td>\n",
       "      <td>0.976190</td>\n",
       "      <td>0.991625</td>\n",
       "      <td>0.9989</td>\n",
       "      <td>908</td>\n",
       "      <td>0.071930</td>\n",
       "      <td>41</td>\n",
       "    </tr>\n",
       "  </tbody>\n",
       "</table>\n",
       "</div>"
      ],
      "text/plain": [
       "   accuracy  f1_score  false_negative_score  false_positive_rate  \\\n",
       "0  0.614604  0.000000                   570               0.0000   \n",
       "1  0.617309  0.013937                   566               0.0000   \n",
       "2  0.624746  0.051282                   555               0.0000   \n",
       "3  0.632860  0.093489                   542               0.0011   \n",
       "4  0.641650  0.133987                   529               0.0011   \n",
       "\n",
       "   false_positive_score  fraction_predicted_as_negative  \\\n",
       "0                     0                        1.000000   \n",
       "1                     0                        0.997295   \n",
       "2                     0                        0.989858   \n",
       "3                     1                        0.980392   \n",
       "4                     1                        0.971602   \n",
       "\n",
       "   fraction_predicted_as_positive  lift_negative  lift_positive  \\\n",
       "0                        0.000000       1.000000       0.000000   \n",
       "1                        0.002705       1.002712       2.594737   \n",
       "2                        0.010142       1.010246       2.594737   \n",
       "3                        0.019608       1.018878       2.505263   \n",
       "4                        0.028398       1.028095       2.532957   \n",
       "\n",
       "   matthews_correlation_coefficient  negative_predictive_value  \\\n",
       "0                          0.000000                   0.614604   \n",
       "1                          0.065763                   0.616271   \n",
       "2                          0.127826                   0.620902   \n",
       "3                          0.168571                   0.626207   \n",
       "4                          0.207530                   0.631872   \n",
       "\n",
       "   positive_predictive_value  threshold  true_negative_rate  \\\n",
       "0                   0.000000   1.000000              1.0000   \n",
       "1                   1.000000   0.997007              1.0000   \n",
       "2                   1.000000   0.995319              1.0000   \n",
       "3                   0.965517   0.993442              0.9989   \n",
       "4                   0.976190   0.991625              0.9989   \n",
       "\n",
       "   true_negative_score  true_positive_rate  true_positive_score  \n",
       "0                  909            0.000000                    0  \n",
       "1                  909            0.007018                    4  \n",
       "2                  909            0.026316                   15  \n",
       "3                  908            0.049123                   28  \n",
       "4                  908            0.071930                   41  "
      ]
     },
     "execution_count": 84,
     "metadata": {},
     "output_type": "execute_result"
    }
   ],
   "source": [
    "roc_df.head()"
   ]
  },
  {
   "cell_type": "code",
   "execution_count": 85,
   "metadata": {},
   "outputs": [
    {
     "name": "stdout",
     "output_type": "stream",
     "text": [
      "0.33128651162303163\n"
     ]
    }
   ],
   "source": [
    "#Use loc pandas dataframe method to find max f1 score and specified threshold value\n",
    "optimal_threshold = roc_df.loc[roc_df['f1_score'] == roc_df['f1_score'].max()]['threshold'].values[0]\n",
    "print(optimal_threshold)"
   ]
  },
  {
   "cell_type": "markdown",
   "metadata": {},
   "source": [
    "So, to optimise on f1 score, all I need to do is pick a prediction threshold of 0.33. Lets keep this information for later."
   ]
  },
  {
   "cell_type": "markdown",
   "metadata": {},
   "source": [
    "#### Prework to Deployment\n",
    "To deploy the model, we first need to ensure that the model is trained on all of the data. To do that, we first need to unlock the project holdout and then retrain the model on 100% of the data."
   ]
  },
  {
   "cell_type": "code",
   "execution_count": 91,
   "metadata": {},
   "outputs": [
    {
     "data": {
      "text/plain": [
       "Project(LeadScoringUseCase)"
      ]
     },
     "execution_count": 91,
     "metadata": {},
     "output_type": "execute_result"
    }
   ],
   "source": [
    "#Unlocking Holdout\n",
    "project.unlock_holdout()"
   ]
  },
  {
   "cell_type": "code",
   "execution_count": null,
   "metadata": {},
   "outputs": [],
   "source": [
    "#Retraining the model\n",
    "retrained_model_number = best_model.train(100)\n",
    "\n",
    "#Sleep while waiting for the modeling jobs to complete\n",
    "while len(project.get_model_jobs()) != 0:\n",
    "    time.sleep(5)\n",
    "\n",
    "#Overwriting best_model with newly trained best model\n",
    "for model in project.get_models():\n",
    "    if model.model_number == retrained_model_number:\n",
    "        best_model = model\n",
    "        \n",
    "print(best_model, best_model.sample_pct)"
   ]
  },
  {
   "cell_type": "markdown",
   "metadata": {},
   "source": [
    "#### Deploy the model\n",
    "\n",
    "Once we are certain on the model we want to use, we can deploy it easily with the following code: "
   ]
  },
  {
   "cell_type": "code",
   "execution_count": null,
   "metadata": {},
   "outputs": [],
   "source": [
    "prediction_server = dr.PredictionServer.list()[0]\n",
    "\n",
    "deployment = dr.Deployment.create_from_learning_model(\n",
    "    best_model.id, label='Lead Scoring Deployment', description='Score prospects against their propensity to convert',\n",
    "    default_prediction_server_id=prediction_server.id)\n",
    "deployment"
   ]
  }
 ],
 "metadata": {
  "kernelspec": {
   "display_name": "Python 3",
   "language": "python",
   "name": "python3"
  },
  "language_info": {
   "codemirror_mode": {
    "name": "ipython",
    "version": 3
   },
   "file_extension": ".py",
   "mimetype": "text/x-python",
   "name": "python",
   "nbconvert_exporter": "python",
   "pygments_lexer": "ipython3",
   "version": "3.7.4"
  }
 },
 "nbformat": 4,
 "nbformat_minor": 2
}